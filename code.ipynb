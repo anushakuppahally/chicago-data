{
    "cells": [
        {
            "cell_type": "code",
            "execution_count": 4,
            "metadata": {},
            "outputs": [
                {
                    "data": {
                        "text/html": "<div>\n<style scoped>\n    .dataframe tbody tr th:only-of-type {\n        vertical-align: middle;\n    }\n\n    .dataframe tbody tr th {\n        vertical-align: top;\n    }\n\n    .dataframe thead th {\n        text-align: right;\n    }\n</style>\n<table border=\"1\" class=\"dataframe\">\n  <thead>\n    <tr style=\"text-align: right;\">\n      <th></th>\n      <th>COMMUNITY_AREA_NUMBER</th>\n      <th>COMMUNITY_AREA_NAME</th>\n      <th>PERCENT_OF_HOUSING_CROWDED</th>\n      <th>PERCENT_HOUSEHOLDS_BELOW_POVERTY</th>\n      <th>PERCENT_AGED_16__UNEMPLOYED</th>\n      <th>PERCENT_AGED_25__WITHOUT_HIGH_SCHOOL_DIPLOMA</th>\n      <th>PERCENT_AGED_UNDER_18_OR_OVER_64</th>\n      <th>PER_CAPITA_INCOME</th>\n      <th>HARDSHIP_INDEX</th>\n    </tr>\n  </thead>\n  <tbody>\n    <tr>\n      <th>0</th>\n      <td>1.0</td>\n      <td>Rogers Park</td>\n      <td>7.7</td>\n      <td>23.6</td>\n      <td>8.7</td>\n      <td>18.2</td>\n      <td>27.5</td>\n      <td>23939</td>\n      <td>39.0</td>\n    </tr>\n    <tr>\n      <th>1</th>\n      <td>2.0</td>\n      <td>West Ridge</td>\n      <td>7.8</td>\n      <td>17.2</td>\n      <td>8.8</td>\n      <td>20.8</td>\n      <td>38.5</td>\n      <td>23040</td>\n      <td>46.0</td>\n    </tr>\n    <tr>\n      <th>2</th>\n      <td>3.0</td>\n      <td>Uptown</td>\n      <td>3.8</td>\n      <td>24.0</td>\n      <td>8.9</td>\n      <td>11.8</td>\n      <td>22.2</td>\n      <td>35787</td>\n      <td>20.0</td>\n    </tr>\n    <tr>\n      <th>3</th>\n      <td>4.0</td>\n      <td>Lincoln Square</td>\n      <td>3.4</td>\n      <td>10.9</td>\n      <td>8.2</td>\n      <td>13.4</td>\n      <td>25.5</td>\n      <td>37524</td>\n      <td>17.0</td>\n    </tr>\n    <tr>\n      <th>4</th>\n      <td>5.0</td>\n      <td>North Center</td>\n      <td>0.3</td>\n      <td>7.5</td>\n      <td>5.2</td>\n      <td>4.5</td>\n      <td>26.2</td>\n      <td>57123</td>\n      <td>6.0</td>\n    </tr>\n  </tbody>\n</table>\n</div>",
                        "text/plain": "   COMMUNITY_AREA_NUMBER COMMUNITY_AREA_NAME  PERCENT_OF_HOUSING_CROWDED  \\\n0                    1.0         Rogers Park                         7.7   \n1                    2.0          West Ridge                         7.8   \n2                    3.0              Uptown                         3.8   \n3                    4.0      Lincoln Square                         3.4   \n4                    5.0        North Center                         0.3   \n\n   PERCENT_HOUSEHOLDS_BELOW_POVERTY  PERCENT_AGED_16__UNEMPLOYED  \\\n0                              23.6                          8.7   \n1                              17.2                          8.8   \n2                              24.0                          8.9   \n3                              10.9                          8.2   \n4                               7.5                          5.2   \n\n   PERCENT_AGED_25__WITHOUT_HIGH_SCHOOL_DIPLOMA  \\\n0                                          18.2   \n1                                          20.8   \n2                                          11.8   \n3                                          13.4   \n4                                           4.5   \n\n   PERCENT_AGED_UNDER_18_OR_OVER_64  PER_CAPITA_INCOME  HARDSHIP_INDEX  \n0                              27.5              23939            39.0  \n1                              38.5              23040            46.0  \n2                              22.2              35787            20.0  \n3                              25.5              37524            17.0  \n4                              26.2              57123             6.0  "
                    },
                    "execution_count": 4,
                    "metadata": {},
                    "output_type": "execute_result"
                }
            ],
            "source": "# The code was removed by Watson Studio for sharing."
        },
        {
            "cell_type": "code",
            "execution_count": 5,
            "metadata": {},
            "outputs": [
                {
                    "data": {
                        "text/html": "<div>\n<style scoped>\n    .dataframe tbody tr th:only-of-type {\n        vertical-align: middle;\n    }\n\n    .dataframe tbody tr th {\n        vertical-align: top;\n    }\n\n    .dataframe thead th {\n        text-align: right;\n    }\n</style>\n<table border=\"1\" class=\"dataframe\">\n  <thead>\n    <tr style=\"text-align: right;\">\n      <th></th>\n      <th>School_ID</th>\n      <th>NAME_OF_SCHOOL</th>\n      <th>Elementary, Middle, or High School</th>\n      <th>Street_Address</th>\n      <th>City</th>\n      <th>State</th>\n      <th>ZIP_Code</th>\n      <th>Phone_Number</th>\n      <th>Link</th>\n      <th>Network_Manager</th>\n      <th>...</th>\n      <th>Freshman_on_Track_Rate__</th>\n      <th>X_COORDINATE</th>\n      <th>Y_COORDINATE</th>\n      <th>Latitude</th>\n      <th>Longitude</th>\n      <th>COMMUNITY_AREA_NUMBER</th>\n      <th>COMMUNITY_AREA_NAME</th>\n      <th>Ward</th>\n      <th>Police_District</th>\n      <th>Location</th>\n    </tr>\n  </thead>\n  <tbody>\n    <tr>\n      <th>0</th>\n      <td>610038</td>\n      <td>Abraham Lincoln Elementary School</td>\n      <td>ES</td>\n      <td>615 W Kemper Pl</td>\n      <td>Chicago</td>\n      <td>IL</td>\n      <td>60614</td>\n      <td>(773) 534-5720</td>\n      <td>http://schoolreports.cps.edu/SchoolProgressRep...</td>\n      <td>Fullerton Elementary Network</td>\n      <td>...</td>\n      <td>NDA</td>\n      <td>1171699.458</td>\n      <td>1915829.428</td>\n      <td>41.924497</td>\n      <td>-87.644522</td>\n      <td>7</td>\n      <td>LINCOLN PARK</td>\n      <td>43</td>\n      <td>18</td>\n      <td>(41.92449696, -87.64452163)</td>\n    </tr>\n    <tr>\n      <th>1</th>\n      <td>610281</td>\n      <td>Adam Clayton Powell Paideia Community Academy ...</td>\n      <td>ES</td>\n      <td>7511 S South Shore Dr</td>\n      <td>Chicago</td>\n      <td>IL</td>\n      <td>60649</td>\n      <td>(773) 535-6650</td>\n      <td>http://schoolreports.cps.edu/SchoolProgressRep...</td>\n      <td>Skyway Elementary Network</td>\n      <td>...</td>\n      <td>NDA</td>\n      <td>1196129.985</td>\n      <td>1856209.466</td>\n      <td>41.760324</td>\n      <td>-87.556736</td>\n      <td>43</td>\n      <td>SOUTH SHORE</td>\n      <td>7</td>\n      <td>4</td>\n      <td>(41.76032435, -87.55673627)</td>\n    </tr>\n    <tr>\n      <th>2</th>\n      <td>610185</td>\n      <td>Adlai E Stevenson Elementary School</td>\n      <td>ES</td>\n      <td>8010 S Kostner Ave</td>\n      <td>Chicago</td>\n      <td>IL</td>\n      <td>60652</td>\n      <td>(773) 535-2280</td>\n      <td>http://schoolreports.cps.edu/SchoolProgressRep...</td>\n      <td>Midway Elementary Network</td>\n      <td>...</td>\n      <td>NDA</td>\n      <td>1148427.165</td>\n      <td>1851012.215</td>\n      <td>41.747111</td>\n      <td>-87.731702</td>\n      <td>70</td>\n      <td>ASHBURN</td>\n      <td>13</td>\n      <td>8</td>\n      <td>(41.74711093, -87.73170248)</td>\n    </tr>\n    <tr>\n      <th>3</th>\n      <td>609993</td>\n      <td>Agustin Lara Elementary Academy</td>\n      <td>ES</td>\n      <td>4619 S Wolcott Ave</td>\n      <td>Chicago</td>\n      <td>IL</td>\n      <td>60609</td>\n      <td>(773) 535-4389</td>\n      <td>http://schoolreports.cps.edu/SchoolProgressRep...</td>\n      <td>Pershing Elementary Network</td>\n      <td>...</td>\n      <td>NDA</td>\n      <td>1164504.290</td>\n      <td>1873959.199</td>\n      <td>41.809757</td>\n      <td>-87.672145</td>\n      <td>61</td>\n      <td>NEW CITY</td>\n      <td>20</td>\n      <td>9</td>\n      <td>(41.8097569, -87.6721446)</td>\n    </tr>\n    <tr>\n      <th>4</th>\n      <td>610513</td>\n      <td>Air Force Academy High School</td>\n      <td>HS</td>\n      <td>3630 S Wells St</td>\n      <td>Chicago</td>\n      <td>IL</td>\n      <td>60609</td>\n      <td>(773) 535-1590</td>\n      <td>http://schoolreports.cps.edu/SchoolProgressRep...</td>\n      <td>Southwest Side High School Network</td>\n      <td>...</td>\n      <td>91.8</td>\n      <td>1175177.622</td>\n      <td>1880745.126</td>\n      <td>41.828146</td>\n      <td>-87.632794</td>\n      <td>34</td>\n      <td>ARMOUR SQUARE</td>\n      <td>11</td>\n      <td>9</td>\n      <td>(41.82814609, -87.63279369)</td>\n    </tr>\n  </tbody>\n</table>\n<p>5 rows \u00d7 78 columns</p>\n</div>",
                        "text/plain": "   School_ID                                     NAME_OF_SCHOOL  \\\n0     610038                  Abraham Lincoln Elementary School   \n1     610281  Adam Clayton Powell Paideia Community Academy ...   \n2     610185                Adlai E Stevenson Elementary School   \n3     609993                    Agustin Lara Elementary Academy   \n4     610513                      Air Force Academy High School   \n\n  Elementary, Middle, or High School         Street_Address     City State  \\\n0                                 ES        615 W Kemper Pl  Chicago    IL   \n1                                 ES  7511 S South Shore Dr  Chicago    IL   \n2                                 ES     8010 S Kostner Ave  Chicago    IL   \n3                                 ES     4619 S Wolcott Ave  Chicago    IL   \n4                                 HS        3630 S Wells St  Chicago    IL   \n\n   ZIP_Code    Phone_Number  \\\n0     60614  (773) 534-5720   \n1     60649  (773) 535-6650   \n2     60652  (773) 535-2280   \n3     60609  (773) 535-4389   \n4     60609  (773) 535-1590   \n\n                                                Link  \\\n0  http://schoolreports.cps.edu/SchoolProgressRep...   \n1  http://schoolreports.cps.edu/SchoolProgressRep...   \n2  http://schoolreports.cps.edu/SchoolProgressRep...   \n3  http://schoolreports.cps.edu/SchoolProgressRep...   \n4  http://schoolreports.cps.edu/SchoolProgressRep...   \n\n                      Network_Manager  ... Freshman_on_Track_Rate__  \\\n0        Fullerton Elementary Network  ...                      NDA   \n1           Skyway Elementary Network  ...                      NDA   \n2           Midway Elementary Network  ...                      NDA   \n3         Pershing Elementary Network  ...                      NDA   \n4  Southwest Side High School Network  ...                     91.8   \n\n  X_COORDINATE Y_COORDINATE   Latitude  Longitude COMMUNITY_AREA_NUMBER  \\\n0  1171699.458  1915829.428  41.924497 -87.644522                     7   \n1  1196129.985  1856209.466  41.760324 -87.556736                    43   \n2  1148427.165  1851012.215  41.747111 -87.731702                    70   \n3  1164504.290  1873959.199  41.809757 -87.672145                    61   \n4  1175177.622  1880745.126  41.828146 -87.632794                    34   \n\n  COMMUNITY_AREA_NAME  Ward Police_District                     Location  \n0        LINCOLN PARK    43              18  (41.92449696, -87.64452163)  \n1         SOUTH SHORE     7               4  (41.76032435, -87.55673627)  \n2             ASHBURN    13               8  (41.74711093, -87.73170248)  \n3            NEW CITY    20               9    (41.8097569, -87.6721446)  \n4       ARMOUR SQUARE    11               9  (41.82814609, -87.63279369)  \n\n[5 rows x 78 columns]"
                    },
                    "execution_count": 5,
                    "metadata": {},
                    "output_type": "execute_result"
                }
            ],
            "source": "\nbody = client_2e1f06cbe27b456499fc38ec81c09e8b.get_object(Bucket='finalprojectreal-donotdelete-pr-hz6fqzajb1joke',Key='ChicagoPublicSchools.csv')['Body']\n# add missing __iter__ method, so pandas accepts body as file-like object\nif not hasattr(body, \"__iter__\"): body.__iter__ = types.MethodType( __iter__, body )\n\ndf_data_2 = pd.read_csv(body)\ndf_data_2.head()\n"
        },
        {
            "cell_type": "code",
            "execution_count": 4,
            "metadata": {},
            "outputs": [
                {
                    "data": {
                        "text/html": "<div>\n<style scoped>\n    .dataframe tbody tr th:only-of-type {\n        vertical-align: middle;\n    }\n\n    .dataframe tbody tr th {\n        vertical-align: top;\n    }\n\n    .dataframe thead th {\n        text-align: right;\n    }\n</style>\n<table border=\"1\" class=\"dataframe\">\n  <thead>\n    <tr style=\"text-align: right;\">\n      <th></th>\n      <th>ID</th>\n      <th>CASE_NUMBER</th>\n      <th>DATE</th>\n      <th>BLOCK</th>\n      <th>IUCR</th>\n      <th>PRIMARY_TYPE</th>\n      <th>DESCRIPTION</th>\n      <th>LOCATION_DESCRIPTION</th>\n      <th>ARREST</th>\n      <th>DOMESTIC</th>\n      <th>...</th>\n      <th>DISTRICT</th>\n      <th>WARD</th>\n      <th>COMMUNITY_AREA_NUMBER</th>\n      <th>FBICODE</th>\n      <th>X_COORDINATE</th>\n      <th>Y_COORDINATE</th>\n      <th>YEAR</th>\n      <th>LATITUDE</th>\n      <th>LONGITUDE</th>\n      <th>LOCATION</th>\n    </tr>\n  </thead>\n  <tbody>\n    <tr>\n      <th>0</th>\n      <td>3512276</td>\n      <td>HK587712</td>\n      <td>2004-08-28</td>\n      <td>047XX S KEDZIE AVE</td>\n      <td>890</td>\n      <td>THEFT</td>\n      <td>FROM BUILDING</td>\n      <td>SMALL RETAIL STORE</td>\n      <td>False</td>\n      <td>False</td>\n      <td>...</td>\n      <td>9</td>\n      <td>14.0</td>\n      <td>58.0</td>\n      <td>6</td>\n      <td>1155838.0</td>\n      <td>1873050.0</td>\n      <td>2004</td>\n      <td>41.807440</td>\n      <td>-87.703956</td>\n      <td>(41.8074405, -87.703955849)</td>\n    </tr>\n    <tr>\n      <th>1</th>\n      <td>3406613</td>\n      <td>HK456306</td>\n      <td>2004-06-26</td>\n      <td>009XX N CENTRAL PARK AVE</td>\n      <td>820</td>\n      <td>THEFT</td>\n      <td>$500 AND UNDER</td>\n      <td>OTHER</td>\n      <td>False</td>\n      <td>False</td>\n      <td>...</td>\n      <td>11</td>\n      <td>27.0</td>\n      <td>23.0</td>\n      <td>6</td>\n      <td>1152206.0</td>\n      <td>1906127.0</td>\n      <td>2004</td>\n      <td>41.898280</td>\n      <td>-87.716406</td>\n      <td>(41.898279962, -87.716405505)</td>\n    </tr>\n    <tr>\n      <th>2</th>\n      <td>8002131</td>\n      <td>HT233595</td>\n      <td>2011-04-04</td>\n      <td>043XX S WABASH AVE</td>\n      <td>820</td>\n      <td>THEFT</td>\n      <td>$500 AND UNDER</td>\n      <td>NURSING HOME/RETIREMENT HOME</td>\n      <td>False</td>\n      <td>False</td>\n      <td>...</td>\n      <td>2</td>\n      <td>3.0</td>\n      <td>38.0</td>\n      <td>6</td>\n      <td>1177436.0</td>\n      <td>1876313.0</td>\n      <td>2011</td>\n      <td>41.815933</td>\n      <td>-87.624642</td>\n      <td>(41.815933131, -87.624642127)</td>\n    </tr>\n    <tr>\n      <th>3</th>\n      <td>7903289</td>\n      <td>HT133522</td>\n      <td>2010-12-30</td>\n      <td>083XX S KINGSTON AVE</td>\n      <td>840</td>\n      <td>THEFT</td>\n      <td>FINANCIAL ID THEFT: OVER $300</td>\n      <td>RESIDENCE</td>\n      <td>False</td>\n      <td>False</td>\n      <td>...</td>\n      <td>4</td>\n      <td>7.0</td>\n      <td>46.0</td>\n      <td>6</td>\n      <td>1194622.0</td>\n      <td>1850125.0</td>\n      <td>2010</td>\n      <td>41.743665</td>\n      <td>-87.562463</td>\n      <td>(41.743665322, -87.562462756)</td>\n    </tr>\n    <tr>\n      <th>4</th>\n      <td>10402076</td>\n      <td>HZ138551</td>\n      <td>2016-02-02</td>\n      <td>033XX W 66TH ST</td>\n      <td>820</td>\n      <td>THEFT</td>\n      <td>$500 AND UNDER</td>\n      <td>ALLEY</td>\n      <td>False</td>\n      <td>False</td>\n      <td>...</td>\n      <td>8</td>\n      <td>15.0</td>\n      <td>66.0</td>\n      <td>6</td>\n      <td>1155240.0</td>\n      <td>1860661.0</td>\n      <td>2016</td>\n      <td>41.773455</td>\n      <td>-87.706480</td>\n      <td>(41.773455295, -87.706480471)</td>\n    </tr>\n  </tbody>\n</table>\n<p>5 rows \u00d7 21 columns</p>\n</div>",
                        "text/plain": "         ID CASE_NUMBER        DATE                     BLOCK IUCR  \\\n0   3512276    HK587712  2004-08-28        047XX S KEDZIE AVE  890   \n1   3406613    HK456306  2004-06-26  009XX N CENTRAL PARK AVE  820   \n2   8002131    HT233595  2011-04-04        043XX S WABASH AVE  820   \n3   7903289    HT133522  2010-12-30      083XX S KINGSTON AVE  840   \n4  10402076    HZ138551  2016-02-02           033XX W 66TH ST  820   \n\n  PRIMARY_TYPE                    DESCRIPTION          LOCATION_DESCRIPTION  \\\n0        THEFT                  FROM BUILDING            SMALL RETAIL STORE   \n1        THEFT                 $500 AND UNDER                         OTHER   \n2        THEFT                 $500 AND UNDER  NURSING HOME/RETIREMENT HOME   \n3        THEFT  FINANCIAL ID THEFT: OVER $300                     RESIDENCE   \n4        THEFT                 $500 AND UNDER                         ALLEY   \n\n   ARREST  DOMESTIC  ...  DISTRICT  WARD  COMMUNITY_AREA_NUMBER  FBICODE  \\\n0   False     False  ...         9  14.0                   58.0        6   \n1   False     False  ...        11  27.0                   23.0        6   \n2   False     False  ...         2   3.0                   38.0        6   \n3   False     False  ...         4   7.0                   46.0        6   \n4   False     False  ...         8  15.0                   66.0        6   \n\n  X_COORDINATE  Y_COORDINATE  YEAR   LATITUDE  LONGITUDE  \\\n0    1155838.0     1873050.0  2004  41.807440 -87.703956   \n1    1152206.0     1906127.0  2004  41.898280 -87.716406   \n2    1177436.0     1876313.0  2011  41.815933 -87.624642   \n3    1194622.0     1850125.0  2010  41.743665 -87.562463   \n4    1155240.0     1860661.0  2016  41.773455 -87.706480   \n\n                        LOCATION  \n0    (41.8074405, -87.703955849)  \n1  (41.898279962, -87.716405505)  \n2  (41.815933131, -87.624642127)  \n3  (41.743665322, -87.562462756)  \n4  (41.773455295, -87.706480471)  \n\n[5 rows x 21 columns]"
                    },
                    "execution_count": 4,
                    "metadata": {},
                    "output_type": "execute_result"
                }
            ],
            "source": "\nbody = client_2e1f06cbe27b456499fc38ec81c09e8b.get_object(Bucket='finalprojectreal-donotdelete-pr-hz6fqzajb1joke',Key='ChicagoCrimeData.csv')['Body']\n# add missing __iter__ method, so pandas accepts body as file-like object\nif not hasattr(body, \"__iter__\"): body.__iter__ = types.MethodType( __iter__, body )\n\ndf_data_3 = pd.read_csv(body)\ndf_data_3.head()\n"
        },
        {
            "cell_type": "code",
            "execution_count": 6,
            "metadata": {},
            "outputs": [
                {
                    "name": "stdout",
                    "output_type": "stream",
                    "text": "Collecting sqlalchemy==1.3.9\n  Downloading SQLAlchemy-1.3.9.tar.gz (6.0 MB)\n\u001b[K     |\u2588\u2588\u2588\u2588\u2588\u2588\u2588\u2588\u2588\u2588\u2588\u2588\u2588\u2588\u2588\u2588\u2588\u2588\u2588\u2588\u2588\u2588\u2588\u2588\u2588\u2588\u2588\u2588\u2588\u2588\u2588\u2588| 6.0 MB 27.9 MB/s eta 0:00:01\n\u001b[?25hBuilding wheels for collected packages: sqlalchemy\n  Building wheel for sqlalchemy (setup.py) ... \u001b[?25ldone\n\u001b[?25h  Created wheel for sqlalchemy: filename=SQLAlchemy-1.3.9-cp38-cp38-linux_x86_64.whl size=1209503 sha256=8c5212d93f0a510ad32433a21a3d2fe50ebd617bb6339560ef72537b1c30ffbf\n  Stored in directory: /tmp/wsuser/.cache/pip/wheels/cb/43/46/fa638f2422554332b7865d600275b24568bf60e76104a94bb4\nSuccessfully built sqlalchemy\nInstalling collected packages: sqlalchemy\n  Attempting uninstall: sqlalchemy\n    Found existing installation: SQLAlchemy 1.4.22\n    Uninstalling SQLAlchemy-1.4.22:\n      Successfully uninstalled SQLAlchemy-1.4.22\nSuccessfully installed sqlalchemy-1.3.9\nRequirement already satisfied: ibm_db_sa in /opt/conda/envs/Python-3.8-main/lib/python3.8/site-packages (0.3.7)\nRequirement already satisfied: ibm-db>=2.0.0 in /opt/conda/envs/Python-3.8-main/lib/python3.8/site-packages (from ibm_db_sa) (3.0.4)\nRequirement already satisfied: sqlalchemy>=0.7.3 in /opt/conda/envs/Python-3.8-main/lib/python3.8/site-packages (from ibm_db_sa) (1.3.9)\nCollecting ipython-sql\n  Downloading ipython_sql-0.4.0-py3-none-any.whl (19 kB)\nRequirement already satisfied: ipython-genutils>=0.1.0 in /opt/conda/envs/Python-3.8-main/lib/python3.8/site-packages (from ipython-sql) (0.2.0)\nRequirement already satisfied: six in /opt/conda/envs/Python-3.8-main/lib/python3.8/site-packages (from ipython-sql) (1.15.0)\nCollecting sqlparse\n  Downloading sqlparse-0.4.2-py3-none-any.whl (42 kB)\n\u001b[K     |\u2588\u2588\u2588\u2588\u2588\u2588\u2588\u2588\u2588\u2588\u2588\u2588\u2588\u2588\u2588\u2588\u2588\u2588\u2588\u2588\u2588\u2588\u2588\u2588\u2588\u2588\u2588\u2588\u2588\u2588\u2588\u2588| 42 kB 3.5 MB/s  eta 0:00:01\n\u001b[?25hCollecting prettytable<1\n  Downloading prettytable-0.7.2.zip (28 kB)\nRequirement already satisfied: sqlalchemy>=0.6.7 in /opt/conda/envs/Python-3.8-main/lib/python3.8/site-packages (from ipython-sql) (1.3.9)\nRequirement already satisfied: ipython>=1.0 in /opt/conda/envs/Python-3.8-main/lib/python3.8/site-packages (from ipython-sql) (7.22.0)\nRequirement already satisfied: pickleshare in /opt/conda/envs/Python-3.8-main/lib/python3.8/site-packages (from ipython>=1.0->ipython-sql) (0.7.5)\nRequirement already satisfied: traitlets>=4.2 in /opt/conda/envs/Python-3.8-main/lib/python3.8/site-packages (from ipython>=1.0->ipython-sql) (5.0.5)\nRequirement already satisfied: prompt-toolkit!=3.0.0,!=3.0.1,<3.1.0,>=2.0.0 in /opt/conda/envs/Python-3.8-main/lib/python3.8/site-packages (from ipython>=1.0->ipython-sql) (3.0.17)\nRequirement already satisfied: backcall in /opt/conda/envs/Python-3.8-main/lib/python3.8/site-packages (from ipython>=1.0->ipython-sql) (0.2.0)\nRequirement already satisfied: setuptools>=18.5 in /opt/conda/envs/Python-3.8-main/lib/python3.8/site-packages (from ipython>=1.0->ipython-sql) (52.0.0.post20211006)\nRequirement already satisfied: pexpect>4.3 in /opt/conda/envs/Python-3.8-main/lib/python3.8/site-packages (from ipython>=1.0->ipython-sql) (4.8.0)\nRequirement already satisfied: decorator in /opt/conda/envs/Python-3.8-main/lib/python3.8/site-packages (from ipython>=1.0->ipython-sql) (5.0.9)\nRequirement already satisfied: pygments in /opt/conda/envs/Python-3.8-main/lib/python3.8/site-packages (from ipython>=1.0->ipython-sql) (2.9.0)\nRequirement already satisfied: jedi>=0.16 in /opt/conda/envs/Python-3.8-main/lib/python3.8/site-packages (from ipython>=1.0->ipython-sql) (0.17.2)\nRequirement already satisfied: parso<0.8.0,>=0.7.0 in /opt/conda/envs/Python-3.8-main/lib/python3.8/site-packages (from jedi>=0.16->ipython>=1.0->ipython-sql) (0.7.0)\nRequirement already satisfied: ptyprocess>=0.5 in /opt/conda/envs/Python-3.8-main/lib/python3.8/site-packages (from pexpect>4.3->ipython>=1.0->ipython-sql) (0.7.0)\nRequirement already satisfied: wcwidth in /opt/conda/envs/Python-3.8-main/lib/python3.8/site-packages (from prompt-toolkit!=3.0.0,!=3.0.1,<3.1.0,>=2.0.0->ipython>=1.0->ipython-sql) (0.2.5)\nBuilding wheels for collected packages: prettytable\n  Building wheel for prettytable (setup.py) ... \u001b[?25ldone\n\u001b[?25h  Created wheel for prettytable: filename=prettytable-0.7.2-py3-none-any.whl size=13700 sha256=0b3accff80b091ef1b3312c447744ef143151712518863bb5d9e2529aaa46be4\n  Stored in directory: /tmp/wsuser/.cache/pip/wheels/48/6d/77/9517cb933af254f51a446f1a5ec9c2be3e45f17384940bce68\nSuccessfully built prettytable\nInstalling collected packages: sqlparse, prettytable, ipython-sql\nSuccessfully installed ipython-sql-0.4.0 prettytable-0.7.2 sqlparse-0.4.2\nRequirement already satisfied: ibm-db in /opt/conda/envs/Python-3.8-main/lib/python3.8/site-packages (3.0.4)\nCollecting ibm-db\n  Downloading ibm_db-3.1.0.tar.gz (797 kB)\n\u001b[K     |\u2588\u2588\u2588\u2588\u2588\u2588\u2588\u2588\u2588\u2588\u2588\u2588\u2588\u2588\u2588\u2588\u2588\u2588\u2588\u2588\u2588\u2588\u2588\u2588\u2588\u2588\u2588\u2588\u2588\u2588\u2588\u2588| 797 kB 44.0 MB/s eta 0:00:01\n\u001b[?25h  Installing build dependencies ... \u001b[?25ldone\n\u001b[?25h  Getting requirements to build wheel ... \u001b[?25ldone\n\u001b[?25h  Installing backend dependencies ... \u001b[?25ldone\n\u001b[?25h    Preparing wheel metadata ... \u001b[?25ldone\n\u001b[?25hBuilding wheels for collected packages: ibm-db\n  Building wheel for ibm-db (PEP 517) ... \u001b[?25ldone\n\u001b[?25h  Created wheel for ibm-db: filename=ibm_db-3.1.0-cp38-cp38-linux_x86_64.whl size=394269 sha256=036af1fe3379df049bc2cff134148738b5d8203be8fa008620c707e83e0d98c1\n  Stored in directory: /tmp/wsuser/.cache/pip/wheels/43/71/0a/3065745bc1dc4cafbdcb09e2557082609f7689b16108b670df\nSuccessfully built ibm-db\nInstalling collected packages: ibm-db\n  Attempting uninstall: ibm-db\n    Found existing installation: ibm-db 3.0.4\n    Uninstalling ibm-db-3.0.4:\n      Successfully uninstalled ibm-db-3.0.4\nSuccessfully installed ibm-db-3.1.0\n"
                }
            ],
            "source": "!pip install -U sqlalchemy==1.3.9 \n!pip install -U ibm_db_sa \n!pip install -U ipython-sql \n!pip install -U ibm-db \nimport ibm_db"
        },
        {
            "cell_type": "code",
            "execution_count": 7,
            "metadata": {},
            "outputs": [],
            "source": "%load_ext sql"
        },
        {
            "cell_type": "code",
            "execution_count": 8,
            "metadata": {},
            "outputs": [],
            "source": "%sql ibm_db_sa://nhy87814:17F78ArgrrTbqIql@54a2f15b-5c0f-46df-8954-7e38e612c2bd.c1ogj3sd0tgtu0lqde00.databases.appdomain.cloud:32733/BLUDB?security=SSL"
        },
        {
            "cell_type": "code",
            "execution_count": 9,
            "metadata": {},
            "outputs": [
                {
                    "name": "stdout",
                    "output_type": "stream",
                    "text": " * ibm_db_sa://nhy87814:***@54a2f15b-5c0f-46df-8954-7e38e612c2bd.c1ogj3sd0tgtu0lqde00.databases.appdomain.cloud:32733/BLUDB\nDone.\n"
                },
                {
                    "data": {
                        "text/html": "<table>\n    <tr>\n        <th>number_of_crimes</th>\n    </tr>\n    <tr>\n        <td>533</td>\n    </tr>\n</table>",
                        "text/plain": "[(533,)]"
                    },
                    "execution_count": 9,
                    "metadata": {},
                    "output_type": "execute_result"
                }
            ],
            "source": "%%sql\n/*Problem 1: Find the total number of crimes recorded in the CRIME table.*/\n\nSELECT distinct COUNT(*) AS NUMBER_OF_CRIMES \nFROM CHICAGO_CRIME_DATA;"
        },
        {
            "cell_type": "code",
            "execution_count": 10,
            "metadata": {},
            "outputs": [
                {
                    "name": "stdout",
                    "output_type": "stream",
                    "text": " * ibm_db_sa://nhy87814:***@54a2f15b-5c0f-46df-8954-7e38e612c2bd.c1ogj3sd0tgtu0lqde00.databases.appdomain.cloud:32733/BLUDB\nDone.\n"
                },
                {
                    "data": {
                        "text/html": "<table>\n    <tr>\n        <th>community_area_name</th>\n        <th>per_capita_income</th>\n    </tr>\n    <tr>\n        <td>West Garfield Park</td>\n        <td>10934</td>\n    </tr>\n    <tr>\n        <td>South Lawndale</td>\n        <td>10402</td>\n    </tr>\n    <tr>\n        <td>Fuller Park</td>\n        <td>10432</td>\n    </tr>\n    <tr>\n        <td>Riverdale</td>\n        <td>8201</td>\n    </tr>\n</table>",
                        "text/plain": "[('West Garfield Park', 10934),\n ('South Lawndale', 10402),\n ('Fuller Park', 10432),\n ('Riverdale', 8201)]"
                    },
                    "execution_count": 10,
                    "metadata": {},
                    "output_type": "execute_result"
                }
            ],
            "source": "%%sql \n/*Problem 2: List community areas with per capita income less than 11000.*/\nselect COMMUNITY_AREA_NAME,PER_CAPITA_INCOME from CENSUS_DATA\nwhere PER_CAPITA_INCOME < 11000;"
        },
        {
            "cell_type": "code",
            "execution_count": 11,
            "metadata": {
                "scrolled": true
            },
            "outputs": [
                {
                    "name": "stdout",
                    "output_type": "stream",
                    "text": " * ibm_db_sa://nhy87814:***@54a2f15b-5c0f-46df-8954-7e38e612c2bd.c1ogj3sd0tgtu0lqde00.databases.appdomain.cloud:32733/BLUDB\nDone.\n"
                },
                {
                    "data": {
                        "text/html": "<table>\n    <tr>\n        <th>case_number</th>\n    </tr>\n    <tr>\n        <td>HK238408</td>\n    </tr>\n    <tr>\n        <td>HL266884</td>\n    </tr>\n</table>",
                        "text/plain": "[('HK238408',), ('HL266884',)]"
                    },
                    "execution_count": 11,
                    "metadata": {},
                    "output_type": "execute_result"
                }
            ],
            "source": "%%sql \n/*Problem 3: List all case numbers for crimes involving minors?*/\nSELECT DISTINCT CASE_NUMBER from CHICAGO_CRIME_DATA \nwhere DESCRIPTION like '%MINOR%'\n"
        },
        {
            "cell_type": "code",
            "execution_count": 12,
            "metadata": {},
            "outputs": [
                {
                    "name": "stdout",
                    "output_type": "stream",
                    "text": " * ibm_db_sa://nhy87814:***@54a2f15b-5c0f-46df-8954-7e38e612c2bd.c1ogj3sd0tgtu0lqde00.databases.appdomain.cloud:32733/BLUDB\nDone.\n"
                },
                {
                    "data": {
                        "text/html": "<table>\n    <tr>\n        <th>case_number</th>\n        <th>primary_type</th>\n        <th>description</th>\n    </tr>\n    <tr>\n        <td>HN144152</td>\n        <td>KIDNAPPING</td>\n        <td>CHILD ABDUCTION/STRANGER</td>\n    </tr>\n</table>",
                        "text/plain": "[('HN144152', 'KIDNAPPING', 'CHILD ABDUCTION/STRANGER')]"
                    },
                    "execution_count": 12,
                    "metadata": {},
                    "output_type": "execute_result"
                }
            ],
            "source": "%%sql \n/*Problem 4: List all kidnapping crimes involving a child (children are not considered minors for the purposes of crime analysis)?*/\nSELECT DISTINCT CASE_NUMBER, PRIMARY_TYPE, DESCRIPTION FROM CHICAGO_CRIME_DATA \nWHERE PRIMARY_TYPE = 'KIDNAPPING'\n"
        },
        {
            "cell_type": "code",
            "execution_count": 13,
            "metadata": {},
            "outputs": [
                {
                    "name": "stdout",
                    "output_type": "stream",
                    "text": " * ibm_db_sa://nhy87814:***@54a2f15b-5c0f-46df-8954-7e38e612c2bd.c1ogj3sd0tgtu0lqde00.databases.appdomain.cloud:32733/BLUDB\nDone.\n"
                },
                {
                    "data": {
                        "text/html": "<table>\n    <tr>\n        <th>primary_type</th>\n    </tr>\n    <tr>\n        <td>ASSAULT</td>\n    </tr>\n    <tr>\n        <td>BATTERY</td>\n    </tr>\n    <tr>\n        <td>CRIMINAL DAMAGE</td>\n    </tr>\n    <tr>\n        <td>CRIMINAL TRESPA</td>\n    </tr>\n    <tr>\n        <td>NARCOTICS</td>\n    </tr>\n    <tr>\n        <td>PUBLIC PEACE VI</td>\n    </tr>\n</table>",
                        "text/plain": "[('ASSAULT',),\n ('BATTERY',),\n ('CRIMINAL DAMAGE',),\n ('CRIMINAL TRESPA',),\n ('NARCOTICS',),\n ('PUBLIC PEACE VI',)]"
                    },
                    "execution_count": 13,
                    "metadata": {},
                    "output_type": "execute_result"
                }
            ],
            "source": "%%sql\n/*Problem 5: What kind of crimes were recorded at schools?*/\n    \nSELECT DISTINCT(PRIMARY_TYPE) FROM CHICAGO_CRIME_DATA \nWHERE LOCATION_DESCRIPTION LIKE '%SCHOOL%'\n"
        },
        {
            "cell_type": "code",
            "execution_count": 14,
            "metadata": {},
            "outputs": [
                {
                    "name": "stdout",
                    "output_type": "stream",
                    "text": " * ibm_db_sa://nhy87814:***@54a2f15b-5c0f-46df-8954-7e38e612c2bd.c1ogj3sd0tgtu0lqde00.databases.appdomain.cloud:32733/BLUDB\nDone.\n"
                },
                {
                    "data": {
                        "text/html": "<table>\n    <tr>\n        <th>Elementary, Middle, or High School</th>\n        <th>average_safety_score</th>\n    </tr>\n    <tr>\n        <td>ES</td>\n        <td>49</td>\n    </tr>\n    <tr>\n        <td>HS</td>\n        <td>49</td>\n    </tr>\n    <tr>\n        <td>MS</td>\n        <td>48</td>\n    </tr>\n</table>",
                        "text/plain": "[('ES', 49), ('HS', 49), ('MS', 48)]"
                    },
                    "execution_count": 14,
                    "metadata": {},
                    "output_type": "execute_result"
                }
            ],
            "source": "%%sql\n/*Problem 6: List the average safety score for all types of schools.*/\n    \nSELECT \"Elementary, Middle, or High School\",AVG(SAFETY_SCORE) AS AVERAGE_SAFETY_SCORE\nFROM CHICAGO_PUBLIC_SCHOOLS\nGROUP BY \"Elementary, Middle, or High School\";"
        },
        {
            "cell_type": "code",
            "execution_count": 15,
            "metadata": {},
            "outputs": [
                {
                    "name": "stdout",
                    "output_type": "stream",
                    "text": " * ibm_db_sa://nhy87814:***@54a2f15b-5c0f-46df-8954-7e38e612c2bd.c1ogj3sd0tgtu0lqde00.databases.appdomain.cloud:32733/BLUDB\nDone.\n"
                },
                {
                    "data": {
                        "text/html": "<table>\n    <tr>\n        <th>community_area_name</th>\n        <th>percent_households_below_poverty</th>\n    </tr>\n    <tr>\n        <td>Riverdale</td>\n        <td>56.5</td>\n    </tr>\n    <tr>\n        <td>Fuller Park</td>\n        <td>51.2</td>\n    </tr>\n    <tr>\n        <td>Englewood</td>\n        <td>46.6</td>\n    </tr>\n    <tr>\n        <td>North Lawndale</td>\n        <td>43.1</td>\n    </tr>\n    <tr>\n        <td>East Garfield Park</td>\n        <td>42.4</td>\n    </tr>\n</table>",
                        "text/plain": "[('Riverdale', Decimal('56.5')),\n ('Fuller Park', Decimal('51.2')),\n ('Englewood', Decimal('46.6')),\n ('North Lawndale', Decimal('43.1')),\n ('East Garfield Park', Decimal('42.4'))]"
                    },
                    "execution_count": 15,
                    "metadata": {},
                    "output_type": "execute_result"
                }
            ],
            "source": "%%sql\n/*Problem 7: List 5 community areas with highest % of households below poverty line.*/\n\nSELECT COMMUNITY_AREA_NAME, PERCENT_HOUSEHOLDS_BELOW_POVERTY\nFROM CENSUS_DATA\nORDER BY PERCENT_HOUSEHOLDS_BELOW_POVERTY DESC\nLIMIT 5 ;"
        },
        {
            "cell_type": "code",
            "execution_count": 16,
            "metadata": {},
            "outputs": [
                {
                    "name": "stdout",
                    "output_type": "stream",
                    "text": " * ibm_db_sa://nhy87814:***@54a2f15b-5c0f-46df-8954-7e38e612c2bd.c1ogj3sd0tgtu0lqde00.databases.appdomain.cloud:32733/BLUDB\nDone.\n"
                },
                {
                    "data": {
                        "text/html": "<table>\n    <tr>\n        <th>community_area_number</th>\n        <th>frequency</th>\n    </tr>\n    <tr>\n        <td>25</td>\n        <td>43</td>\n    </tr>\n</table>",
                        "text/plain": "[(25, 43)]"
                    },
                    "execution_count": 16,
                    "metadata": {},
                    "output_type": "execute_result"
                }
            ],
            "source": "%%sql\n/*Problem 8: Which community area(number) is most crime prone?*/\n    \nSELECT CCD.COMMUNITY_AREA_NUMBER ,COUNT(CCD.COMMUNITY_AREA_NUMBER) AS FREQUENCY\nFROM CHICAGO_CRIME_DATA AS CCD \nGROUP BY CCD.COMMUNITY_AREA_NUMBER\nORDER BY COUNT(CCD.COMMUNITY_AREA_NUMBER) DESC\nLIMIT 1;"
        },
        {
            "cell_type": "code",
            "execution_count": 17,
            "metadata": {},
            "outputs": [
                {
                    "name": "stdout",
                    "output_type": "stream",
                    "text": " * ibm_db_sa://nhy87814:***@54a2f15b-5c0f-46df-8954-7e38e612c2bd.c1ogj3sd0tgtu0lqde00.databases.appdomain.cloud:32733/BLUDB\nDone.\n"
                },
                {
                    "data": {
                        "text/html": "<table>\n    <tr>\n        <th>community_area_name</th>\n    </tr>\n    <tr>\n        <td>Riverdale</td>\n    </tr>\n</table>",
                        "text/plain": "[('Riverdale',)]"
                    },
                    "execution_count": 17,
                    "metadata": {},
                    "output_type": "execute_result"
                }
            ],
            "source": "%%sql\n/*Problem 9: Use a sub-query to find the name of the community area with highest hardship index.*/\n\nSELECT COMMUNITY_AREA_NAME\nFROM  CENSUS_DATA\nWHERE HARDSHIP_INDEX = (SELECT MAX(HARDSHIP_INDEX) FROM CENSUS_DATA);"
        },
        {
            "cell_type": "code",
            "execution_count": 18,
            "metadata": {},
            "outputs": [
                {
                    "name": "stdout",
                    "output_type": "stream",
                    "text": " * ibm_db_sa://nhy87814:***@54a2f15b-5c0f-46df-8954-7e38e612c2bd.c1ogj3sd0tgtu0lqde00.databases.appdomain.cloud:32733/BLUDB\nDone.\n"
                },
                {
                    "data": {
                        "text/html": "<table>\n    <tr>\n        <th>community_area_name</th>\n    </tr>\n    <tr>\n        <td>Austin</td>\n    </tr>\n</table>",
                        "text/plain": "[('Austin',)]"
                    },
                    "execution_count": 18,
                    "metadata": {},
                    "output_type": "execute_result"
                }
            ],
            "source": "%%sql\n/*Problem 10: Use a sub-query to determine the Community Area Name with most number of crimes?*/\n\nSELECT community_area_name\nFROM CENSUS_DATA \nWHERE COMMUNITY_AREA_NUMBER = (    \n    SELECT CCD.COMMUNITY_AREA_NUMBER \n    FROM CHICAGO_CRIME_DATA AS CCD \n    GROUP BY CCD.COMMUNITY_AREA_NUMBER\n    ORDER BY COUNT(CCD.COMMUNITY_AREA_NUMBER) DESC\n    LIMIT 1)\n\nLIMIT 1;"
        }
    ],
    "metadata": {
        "kernelspec": {
            "display_name": "Python 3.8",
            "language": "python",
            "name": "python3"
        },
        "language_info": {
            "codemirror_mode": {
                "name": "ipython",
                "version": 3
            },
            "file_extension": ".py",
            "mimetype": "text/x-python",
            "name": "python",
            "nbconvert_exporter": "python",
            "pygments_lexer": "ipython3",
            "version": "3.8.12"
        }
    },
    "nbformat": 4,
    "nbformat_minor": 1
}